{
 "cells": [
  {
   "cell_type": "code",
   "execution_count": 2,
   "id": "4674ac59",
   "metadata": {
    "scrolled": false
   },
   "outputs": [
    {
     "name": "stderr",
     "output_type": "stream",
     "text": [
      "[nltk_data] Downloading package stopwords to\n",
      "[nltk_data]     C:\\Users\\welcome\\AppData\\Roaming\\nltk_data...\n",
      "[nltk_data]   Package stopwords is already up-to-date!\n"
     ]
    }
   ],
   "source": [
    "import pandas as pd   #pandas library for data frame\n",
    "datatrain=pd.read_csv(r\"C:\\Users\\welcome\\Desktop\\BBC News Train.csv\")  #traindata\n",
    "datatest=pd.read_csv(r\"C:\\Users\\welcome\\Desktop\\BBC News Test.csv\")    #test data\n",
    "import re\n",
    "import nltk\n",
    "nltk.download('stopwords')\n",
    "from nltk.corpus import stopwords\n",
    "from nltk.stem.porter import PorterStemmer\n",
    "corpus = []\n",
    "corpust = []\n",
    "for i in range(0, 1490):                                           #making traindata text efficient\n",
    "  text = re.sub('[^a-zA-Z]', ' ', datatrain['Text'][i])\n",
    "  text = text.lower()\n",
    "  text = text.split()\n",
    "  ps = PorterStemmer()\n",
    "  all_stopwords = stopwords.words('english')\n",
    "  all_stopwords.remove('not')\n",
    "  text = [ps.stem(word) for word in text if not word in set(all_stopwords)]\n",
    "  text = ' '.join(text)\n",
    "  corpus.append(text)\n",
    "for i in range(0, 735):                                           #making testdata text efficient\n",
    "  textt = re.sub('[^a-zA-Z]', ' ', datatest['Text'][i])\n",
    "  textt = textt.lower()\n",
    "  textt = textt.split()\n",
    "  ps = PorterStemmer()\n",
    "  all_stopwords = stopwords.words('english')\n",
    "  all_stopwords.remove('not')\n",
    "  textt = [ps.stem(word) for word in textt if not word in set(all_stopwords)]\n",
    "  textt = ' '.join(textt)\n",
    "  corpust.append(textt)\n",
    "from sklearn.feature_extraction.text import CountVectorizer    #feature extraction\n",
    "cv = CountVectorizer()\n",
    "X = cv.fit_transform(corpus).toarray()      #fit and transform features in train data\n",
    "x = cv.transform(corpust).toarray()         # transform features of test data\n",
    "y = datatrain.iloc[:,-1].values\n",
    "from sklearn.preprocessing import LabelEncoder    # label for category\n",
    "a=LabelEncoder()\n",
    "Y=a.fit_transform(y)\n",
    "from sklearn.linear_model import LogisticRegression    #logistic regression for classificaton with(97% accuracy)\n",
    "\n",
    "lg=LogisticRegression(random_state=0).fit(X,Y)\n",
    "e=lg.predict(x)\n",
    "# print(a.inverse_transform(e))  #predicting \n",
    "\n",
    "\n",
    "# datatest[\"Pr\"]=a.inverse_transform(e)  # prediction of test dataset goes to Finalt.csv file\n",
    "# datatest.to_csv(\"Finalt.csv\",index=False)   "
   ]
  },
  {
   "cell_type": "code",
   "execution_count": null,
   "id": "d6a8fa43",
   "metadata": {},
   "outputs": [],
   "source": [
    "#for input\n",
    "ap=[]\n",
    "sentence = re.sub('[^a-zA-Z]', ' ', str(input()))\n",
    "sentence = sentence.lower()\n",
    "sentence = sentence.split()\n",
    "ps = PorterStemmer()\n",
    "all_stopwords = stopwords.words('english')\n",
    "all_stopwords.remove('not')\n",
    "sentence = [ps.stem(word) for word in sentence if not word in set(all_stopwords)]\n",
    "sentence = ' '.join(sentence)\n",
    "ap.append(sentence)\n",
    "st=cv.transform(ap).toarray()\n",
    "print(a.inverse_transform(lg.predict(st)))"
   ]
  }
 ],
 "metadata": {
  "kernelspec": {
   "display_name": "Python 3",
   "language": "python",
   "name": "python3"
  },
  "language_info": {
   "codemirror_mode": {
    "name": "ipython",
    "version": 3
   },
   "file_extension": ".py",
   "mimetype": "text/x-python",
   "name": "python",
   "nbconvert_exporter": "python",
   "pygments_lexer": "ipython3",
   "version": "3.8.8"
  }
 },
 "nbformat": 4,
 "nbformat_minor": 5
}
